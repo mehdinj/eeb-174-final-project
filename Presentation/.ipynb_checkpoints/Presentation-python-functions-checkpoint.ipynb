{
 "cells": [
  {
   "cell_type": "markdown",
   "metadata": {},
   "source": [
    "# Function 1: Finding Representatives of Each Order"
   ]
  },
  {
   "cell_type": "code",
   "execution_count": 1,
   "metadata": {
    "collapsed": false
   },
   "outputs": [
    {
     "data": {
      "text/plain": [
       "{'ACCIPITRIFORMES': 'Hieraaetus_weiskei',\n",
       " 'ANSERIFORMES': 'Anas_eatoni',\n",
       " 'APODIFORMES': 'Xiphorhynchus_elegans',\n",
       " 'APTERYGIFORMES': 'Pyrilia_aurantiocephala',\n",
       " 'BUCEROTIFORMES': 'Penelopides_samarensis',\n",
       " 'CAPRIMULGIFORMES': 'Caprimulgus_heterurus',\n",
       " 'CARIAMIFORMES': 'Cariama_cristata',\n",
       " 'CASUARIIFORMES': 'Casuarius_unappendiculatus',\n",
       " 'CHARADRIIFORMES': 'Gygis_microrhyncha',\n",
       " 'CICONIIFORMES': 'Leptoptilos_crumeniferus',\n",
       " 'COLIIFORMES': 'Urocolius_macrourus',\n",
       " 'COLUMBIFORMES': 'Phapitreron_brunneiceps',\n",
       " 'CORACIIFORMES': 'Todiramphus_recurvirostris',\n",
       " 'CUCULIFORMES': 'Eudynamys_orientalis',\n",
       " 'EURYPYGIFORMES': 'Chunga_burmeisteri',\n",
       " 'FALCONIFORMES': 'Caracara_cheriway',\n",
       " 'GALLIFORMES': 'Dendragapus_fuliginosus',\n",
       " 'GAVIIFORMES': 'Eudyptes_moseleyi',\n",
       " 'GRUIFORMES': 'Ducula_subflavescens',\n",
       " 'MESITORNITHIFORMES': 'Mesitornis_unicolor',\n",
       " 'MUSOPHAGIFORMES': 'Crinifer_zonurus',\n",
       " 'OTIDIFORMES': 'Houbaropsis_bengalensis',\n",
       " 'PASSERIFORMES': 'Cinclodes_olrogi',\n",
       " 'PELECANIFORMES': 'Threskiornis_bernieri',\n",
       " 'PHAETHONTIFORMES': 'Phaethon_rubricauda',\n",
       " 'PHOENICOPTERIFORMES': 'Butorides_virescens',\n",
       " 'PICIFORMES': 'Ramphastos_swainsonii',\n",
       " 'PODICIPEDIFORMES': 'Aechmophorus_occidentalis',\n",
       " 'PROCELLARIIFORMES': 'Thalassarche_carteri',\n",
       " 'PSITTACIFORMES': 'Amazona_oratrix',\n",
       " 'PTEROCLIDIFORMES': 'Pterocles_lichtensteinii',\n",
       " 'RHEIFORMES': 'Rhea_americana',\n",
       " 'SPHENISCIFORMES': 'Pelecanus_thagus',\n",
       " 'STRIGIFORMES': 'Otus_siaoensis',\n",
       " 'STRUTHIONIFORMES': 'Struthio_camelus',\n",
       " 'SULIFORMES': 'Anhinga_novaehollandiae',\n",
       " 'TINAMIFORMES': 'Apteryx_mantelli',\n",
       " 'TROGONIFORMES': 'Trogon_aurantiiventris'}"
      ]
     },
     "execution_count": 1,
     "metadata": {},
     "output_type": "execute_result"
    }
   ],
   "source": [
    "\n",
    "def make_tip_labels(filename=\"BLIOCPhyloMasterTaxPrumJarvis.csv\"):\n",
    "#this function will extract one representative tip label(species) from every bird oder in the master phylogeny file\n",
    "    \n",
    " #tip label = list index 2, order = list index 13\n",
    "    import csv\n",
    "    import sys\n",
    "    \n",
    "    \n",
    "    file_object=open(filename, \"r\", encoding= \"ISO-8859-15\")#open the file\n",
    "    \n",
    "  \n",
    "    \n",
    "    master_phylo=csv.reader(file_object)#read the file line by line \n",
    "    \n",
    "    next(master_phylo,None)#skipping the header\n",
    "    \n",
    "    \n",
    "   \n",
    "    \n",
    "    tip_label_dict={} #defining dictionary that will eventually have all tipl labels and orders\n",
    "    \n",
    "    specie=\"Struthio_camelus\"#defining the first species for temp specie repo\n",
    "    all_orders=[\"STRUTHIONIFORMES\"]#defining the list of orders\n",
    "    order=\"STRUTHIONIFORMES\"# defning first order for temp order repo\n",
    "    \n",
    "    for line in master_phylo: #loop over every line of the master phylogeny file\n",
    "        \n",
    "       # single_line_list = line.split(\",\") #splits everyline by comma\n",
    "        \n",
    "        \n",
    "        if line[13] in all_orders: #overwriting the order if the order changes in a line\n",
    "            tip_label_dict[line[13]]=specie #populating the dictionary\n",
    "            specie=line[2] #defining the new specie in particular line\n",
    "            \n",
    "        else:  \n",
    "            \n",
    "            \n",
    "            \n",
    "            orde=line[13]#updating the new temp order\n",
    "            all_orders.append(line[13])#append the new order to the list of orders\n",
    "            specie=line[2] #defining the new specie in particular line    \n",
    "            \n",
    "   \n",
    "    return tip_label_dict\n",
    "\n",
    "make_tip_labels(\"BLIOCPhyloMasterTaxPrumJarvis.csv\")\n",
    "        \n",
    "        \n",
    "        \n",
    "    "
   ]
  },
  {
   "cell_type": "markdown",
   "metadata": {},
   "source": [
    "# Function 2: Making Sure That tip_labels Exist in Master Tree"
   ]
  },
  {
   "cell_type": "code",
   "execution_count": 3,
   "metadata": {
    "collapsed": false
   },
   "outputs": [
    {
     "name": "stdout",
     "output_type": "stream",
     "text": [
      "Specie Matched = Cinclodes_olrogi\n",
      "Specie Matched = Amazona_oratrix\n",
      "Specie Matched = Otus_siaoensis\n",
      "Specie Matched = Urocolius_macrourus\n",
      "Specie Matched = Chunga_burmeisteri\n",
      "Specie Matched = Mesitornis_unicolor\n",
      "Specie Matched = Struthio_camelus\n",
      "Specie Matched = Xiphorhynchus_elegans\n",
      "Specie Matched = Eudyptes_moseleyi\n",
      "Specie Matched = Anhinga_novaehollandiae\n",
      "Specie Matched = Phapitreron_brunneiceps\n",
      "Specie Matched = Dendragapus_fuliginosus\n",
      "Specie Matched = Penelopides_samarensis\n",
      "Specie Matched = Threskiornis_bernieri\n",
      "Specie Matched = Anas_eatoni\n",
      "Specie Matched = Thalassarche_carteri\n",
      "Specie Matched = Todiramphus_recurvirostris\n",
      "Specie Matched = Rhea_americana\n",
      "Specie Matched = Hieraaetus_weiskei\n",
      "Specie Matched = Caracara_cheriway\n",
      "Specie Matched = Caprimulgus_heterurus\n",
      "Specie Matched = Casuarius_unappendiculatus\n",
      "Specie Matched = Pelecanus_thagus\n",
      "Specie Matched = Phaethon_rubricauda\n",
      "Specie Matched = Ramphastos_swainsonii\n",
      "Specie Matched = Trogon_aurantiiventris\n",
      "Specie Matched = Gygis_microrhyncha\n",
      "Specie Matched = Butorides_virescens\n",
      "Specie Matched = Leptoptilos_crumeniferus\n",
      "Specie Matched = Houbaropsis_bengalensis\n",
      "Specie Matched = Apteryx_mantelli\n",
      "Specie Matched = Pterocles_lichtensteinii\n",
      "Specie Matched = Aechmophorus_occidentalis\n",
      "Specie Matched = Crinifer_zonurus\n",
      "Specie Matched = Pyrilia_aurantiocephala\n",
      "Specie Matched = Ducula_subflavescens\n",
      "Specie Matched = Eudynamys_orientalis\n",
      "Specie Matched = Cariama_cristata\n",
      "Matches = 38, Misses = 0\n"
     ]
    }
   ],
   "source": [
    "ss=make_tip_labels()\n",
    "\n",
    "def check_tip_labels(tip_label_dict):\n",
    "#this function will check if the extracted tip labels from make_tip_labels exist in master bird tree file\n",
    "#and out puts those tip labels in a csv file\n",
    "    \n",
    "    import csv\n",
    "    import sys\n",
    "    import re\n",
    "    \n",
    "    file_object=open(\"Hackett_Stage2_1K_MCCtree_TargetHeights.tre\",\"r\")#opens master bird tree\n",
    "    master_bird_tree=file_object.read()#reads master bird tree as a string\n",
    "    \n",
    "    \n",
    "    \n",
    "    matches=0 #startig matches and misses counter\n",
    "    misses=0 \n",
    "    for values, keys in tip_label_dict.items():#loop goes over all key value pairs in the dictionary provided by m\n",
    "    \n",
    "        if re.match(pattern=keys, string=master_bird_tree)!=\"\": #if search for the tip label is not empty, increase match by one\n",
    "            matches=matches+1\n",
    "            \n",
    "            print (\"Specie Matched = \" + keys)\n",
    "        else:\n",
    "            misses=misses+1 #otherwise, increases misses by one\n",
    "    print(\"Matches = \"+str(matches)+\", Misses = \"+str(misses)) #print the number of matches and misses\n",
    "    \n",
    "    for value, key in tip_label_dict.items():# this loops outputs the tip labels in a csv file\n",
    "        \n",
    "      \n",
    "    \n",
    "    \n",
    "        file_object.close()\n",
    "    \n",
    "check_tip_labels(ss)\n",
    "        \n"
   ]
  },
  {
   "cell_type": "markdown",
   "metadata": {},
   "source": [
    "# Function 3: Finding All  Non-Representatives Species (tip_labels)"
   ]
  },
  {
   "cell_type": "code",
   "execution_count": 7,
   "metadata": {
    "collapsed": false
   },
   "outputs": [
    {
     "name": "stdout",
     "output_type": "stream",
     "text": [
      "Rhea_pennata\n",
      "Casuarius_casuarius\n",
      "Casuarius_bennetti\n",
      "Dromaius_novaehollandiae\n",
      "Apteryx_australis\n",
      "Apteryx_owenii\n",
      "Apteryx_haastii\n",
      "Tinamus_tao\n",
      "Tinamus_solitarius\n",
      "Tinamus_osgoodi\n",
      "Tinamus_major\n",
      "Tinamus_guttatus\n",
      "Nothocercus_bonapartei\n",
      "Nothocercus_julius\n",
      "Nothocercus_nigrocapillus\n",
      "Number of non-representative species found = 9955\n"
     ]
    }
   ],
   "source": [
    "\n",
    "\n",
    "dd= make_tip_labels()\n",
    "\n",
    "def make_non_occurance(tip_label_dict, filename=\"BLIOCPhyloMasterTaxPrumJarvis.csv\"):\n",
    "    # this function extracts a representative of all non-occurance\n",
    "    \n",
    "    #tip label = list index 2 order = list index 13\n",
    "    import csv\n",
    "    import sys\n",
    "    \n",
    "    \n",
    "    file_object=open(filename, \"r\", encoding= \"ISO-8859-15\")#open the file\n",
    "    \n",
    "    master_phylo=csv.reader(file_object)#read the file line by line \n",
    "    \n",
    "    next(master_phylo,None)#skipping the header\n",
    "    \n",
    "    #output=open(\"non_occurance_reps1.csv\", \"w\")\n",
    "    tip_label_non_occurance={}\n",
    "    \n",
    "    \n",
    "    counter=0\n",
    "    print_counter=15\n",
    "    \n",
    "    for line in master_phylo: #loop over every line of the master phylogeny file\n",
    "       \n",
    "       \n",
    "        # single_line_list = line.split(\",\") #splits everyline by comma \n",
    "    \n",
    "        if line[2] not in tip_label_dict.values(): #overwriting the order if the order changes in a line\n",
    "            counter=counter+1\n",
    "            \n",
    "            if print_counter>0:# in order to show only 15 of non-representative species, for purpose of demontration\n",
    "                \n",
    "                print(line[2])\n",
    "                print_counter=print_counter-1\n",
    "            #output.write(line[2]+\"\\n\")\n",
    "            \n",
    "#             tip_label_non_occurance[line[13]]=line[2] #populating the dictionary\n",
    "#             #specie=line[2] #defining the new specie in particular line\n",
    "    \n",
    "#     return tip_label_non_occurance\n",
    "    print(\"Number of non-representative species found = \"+str(counter))\n",
    "make_non_occurance(dd)\n",
    "    \n",
    "    \n",
    "    \n",
    "    "
   ]
  },
  {
   "cell_type": "code",
   "execution_count": null,
   "metadata": {
    "collapsed": true
   },
   "outputs": [],
   "source": []
  }
 ],
 "metadata": {
  "anaconda-cloud": {},
  "kernelspec": {
   "display_name": "Python [default]",
   "language": "python",
   "name": "python3"
  },
  "language_info": {
   "codemirror_mode": {
    "name": "ipython",
    "version": 3
   },
   "file_extension": ".py",
   "mimetype": "text/x-python",
   "name": "python",
   "nbconvert_exporter": "python",
   "pygments_lexer": "ipython3",
   "version": "3.5.2"
  }
 },
 "nbformat": 4,
 "nbformat_minor": 2
}
