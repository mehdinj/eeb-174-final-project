{
 "cells": [
  {
   "cell_type": "markdown",
   "metadata": {},
   "source": [
    "# Evolution of Avian Atherosclerosis\n",
    "\n",
    "***Mehdi Nojoumi***\n",
    "<br>***EEB C177***\n",
    "\n",
    "<img src=\"./Figures/image.png\" width=\"600\" height=\"600\" alt=\"Alt_name\" title=\"Mytitle\" align=\"center\" />"
   ]
  },
  {
   "cell_type": "markdown",
   "metadata": {},
   "source": [
    "# What is Atherosclerosis?\n",
    "\n",
    "<img src=\"./Figures/image2.png\" width=\"800\" height=\"800\" alt=\"Alt_name\" title=\"Mytitle\" align=\"center\" />\n",
    "<br>\n",
    "*** -Atherosclerosis is a disease that leads to Heart attack and Stroke due to buildup of plaques ***\n",
    "<br><br>\n",
    "*** -Focusing on birds, hoping to find connection to humans ***\n"
   ]
  },
  {
   "cell_type": "markdown",
   "metadata": {},
   "source": [
    "# Data Files\n",
    "***Master taxonomy of ~10,000 bird species:***\n",
    "<br><br>\n",
    "<img src=\"./Figures/image6.png\" width=\"800\" height=\"800\" alt=\"Alt_name\" title=\"Mytitle\" align=\"center\"/>\n",
    "<br><br>\n",
    "***Master Bird Tree with ~ 10,000 tips (tip_labels):***\n",
    "<br><br>\n",
    "*(Panyptila_cayennensis:4.732589368,Panyptila_sanctihieronymi:4.732589368):21.68744415):3.384532481,((((((((((((Apus_bradfieldi:1.467671585,Apus_toulsoni:1.467671585):0.1539680608,Apus_balstoni:1.621639646):3.021301741,Apus_niansae:4.642941387):2.397220311,Apus_apus:7.040161698):2.875010526,Apus_pacificus:9.915172223):0.1223136434,(((Apus_nipalensis:0.3468811103,Apus_caffer:0.3468811103):1.251914685,Apus_affinis:1.598795795):7.243988693,(Apus_acuticauda:0.7303837374,Apus_batesi:0.7303837374):8.112400751):1.194701379):2.83829764,(((Apus_sladeniae:4.42667862,Apus_barbatus:4.42667862):5.29842891,Apus_pallidus:9.72510753):0.1511676737,Apus_berliozi:9.876275204):2.999508303):1.330418468*"
   ]
  },
  {
   "cell_type": "markdown",
   "metadata": {},
   "source": [
    "# Python Function Demo:\n",
    "## Function 1: Finding Representatives of Each Order\n",
    "\n",
    "\n"
   ]
  },
  {
   "cell_type": "code",
   "execution_count": 37,
   "metadata": {
    "collapsed": false
   },
   "outputs": [
    {
     "data": {
      "text/plain": [
       "{'ACCIPITRIFORMES': 'Hieraaetus_weiskei',\n",
       " 'ANSERIFORMES': 'Anas_eatoni',\n",
       " 'APODIFORMES': 'Xiphorhynchus_elegans',\n",
       " 'APTERYGIFORMES': 'Pyrilia_aurantiocephala',\n",
       " 'BUCEROTIFORMES': 'Penelopides_samarensis',\n",
       " 'CAPRIMULGIFORMES': 'Caprimulgus_heterurus',\n",
       " 'CARIAMIFORMES': 'Cariama_cristata',\n",
       " 'CASUARIIFORMES': 'Casuarius_unappendiculatus',\n",
       " 'CHARADRIIFORMES': 'Gygis_microrhyncha',\n",
       " 'CICONIIFORMES': 'Leptoptilos_crumeniferus',\n",
       " 'COLIIFORMES': 'Urocolius_macrourus',\n",
       " 'COLUMBIFORMES': 'Phapitreron_brunneiceps',\n",
       " 'CORACIIFORMES': 'Todiramphus_recurvirostris',\n",
       " 'CUCULIFORMES': 'Eudynamys_orientalis',\n",
       " 'EURYPYGIFORMES': 'Chunga_burmeisteri',\n",
       " 'FALCONIFORMES': 'Caracara_cheriway',\n",
       " 'GALLIFORMES': 'Dendragapus_fuliginosus',\n",
       " 'GAVIIFORMES': 'Eudyptes_moseleyi',\n",
       " 'GRUIFORMES': 'Ducula_subflavescens',\n",
       " 'MESITORNITHIFORMES': 'Mesitornis_unicolor',\n",
       " 'MUSOPHAGIFORMES': 'Crinifer_zonurus',\n",
       " 'OTIDIFORMES': 'Houbaropsis_bengalensis',\n",
       " 'PASSERIFORMES': 'Cinclodes_olrogi',\n",
       " 'PELECANIFORMES': 'Threskiornis_bernieri',\n",
       " 'PHAETHONTIFORMES': 'Phaethon_rubricauda',\n",
       " 'PHOENICOPTERIFORMES': 'Butorides_virescens',\n",
       " 'PICIFORMES': 'Ramphastos_swainsonii',\n",
       " 'PODICIPEDIFORMES': 'Aechmophorus_occidentalis',\n",
       " 'PROCELLARIIFORMES': 'Thalassarche_carteri',\n",
       " 'PSITTACIFORMES': 'Amazona_oratrix',\n",
       " 'PTEROCLIDIFORMES': 'Pterocles_lichtensteinii',\n",
       " 'RHEIFORMES': 'Rhea_americana',\n",
       " 'SPHENISCIFORMES': 'Pelecanus_thagus',\n",
       " 'STRIGIFORMES': 'Otus_siaoensis',\n",
       " 'STRUTHIONIFORMES': 'Struthio_camelus',\n",
       " 'SULIFORMES': 'Anhinga_novaehollandiae',\n",
       " 'TINAMIFORMES': 'Apteryx_mantelli',\n",
       " 'TROGONIFORMES': 'Trogon_aurantiiventris'}"
      ]
     },
     "execution_count": 37,
     "metadata": {},
     "output_type": "execute_result"
    }
   ],
   "source": [
    "\n",
    "def make_tip_labels(filename=\"BLIOCPhyloMasterTaxPrumJarvis.csv\"):\n",
    "#this function will extract one representative tip label(species) from every bird oder in the master phylogeny file\n",
    "    \n",
    " #tip label = list index 2, order = list index 13\n",
    "    import csv\n",
    "    import sys\n",
    "    \n",
    "    \n",
    "    file_object=open(filename, \"r\", encoding= \"ISO-8859-15\")#open the file\n",
    "    \n",
    "  \n",
    "    \n",
    "    master_phylo=csv.reader(file_object)#read the file line by line \n",
    "    \n",
    "    next(master_phylo,None)#skipping the header\n",
    "    \n",
    "    \n",
    "   \n",
    "    \n",
    "    tip_label_dict={} #defining dictionary that will eventually have all tipl labels and orders\n",
    "    \n",
    "    specie=\"Struthio_camelus\"#defining the first species for temp specie repo\n",
    "    all_orders=[\"STRUTHIONIFORMES\"]#defining the list of orders\n",
    "    order=\"STRUTHIONIFORMES\"# defning first order for temp order repo\n",
    "    \n",
    "    for line in master_phylo: #loop over every line of the master phylogeny file\n",
    "        \n",
    "       # single_line_list = line.split(\",\") #splits everyline by comma\n",
    "        \n",
    "        \n",
    "        if line[13] in all_orders: #overwriting the order if the order changes in a line\n",
    "            tip_label_dict[line[13]]=specie #populating the dictionary\n",
    "            specie=line[2] #defining the new specie in particular line\n",
    "            \n",
    "        else:  \n",
    "            \n",
    "            \n",
    "            \n",
    "            orde=line[13]#updating the new temp order\n",
    "            all_orders.append(line[13])#append the new order to the list of orders\n",
    "            specie=line[2] #defining the new specie in particular line    \n",
    "            \n",
    "   \n",
    "    return tip_label_dict\n",
    "\n",
    "make_tip_labels(\"BLIOCPhyloMasterTaxPrumJarvis.csv\")\n",
    "        \n",
    "        \n",
    "        \n",
    "    "
   ]
  },
  {
   "cell_type": "markdown",
   "metadata": {},
   "source": [
    "# R code and Figures:\n",
    "<img src=\"Figures/Rplot09.png\" alt=\"R Figure\"  width=\"800\" height=\"900\">"
   ]
  },
  {
   "cell_type": "markdown",
   "metadata": {},
   "source": [
    "# References\n",
    "\n",
    "Abegglen, L. M., Caulin, A. F., Chan, A., Lee, K., Robinson, R., Campbell, M. S., ... & Jensen, S. T. (2015). Potential mechanisms for cancer resistance in elephants and comparative cellular response to DNA damage in humans. Jama, 314(17), 1850-1860.\n",
    "<br><br>\n",
    "Blumstein, D. T., Buckner, J., Shah, S., Patel, S., Alfaro, M. E., & Natterson-Horowitz, B. (2015). The evolution of capture myopathy in hooved mammals: a model for human stress cardiomyopathy?. Evolution, medicine, and public health, 2015(1), 195-203.\n",
    "<br><br>\n",
    "Finlayson, R., Symons, C., & TW-Fiennes, R. N. (1962). Atherosclerosis: a comparative study. British medical journal, 1(5277), 501."
   ]
  },
  {
   "cell_type": "markdown",
   "metadata": {},
   "source": [
    "\n",
    "# Repository Link\n",
    "\n",
    "## https://github.com/mehdinj/eeb-174-final-project\n",
    "\n",
    "<br><br>\n",
    "*Thank You!*"
   ]
  },
  {
   "cell_type": "markdown",
   "metadata": {
    "collapsed": true
   },
   "source": []
  },
  {
   "cell_type": "code",
   "execution_count": null,
   "metadata": {
    "collapsed": true
   },
   "outputs": [],
   "source": []
  }
 ],
 "metadata": {
  "anaconda-cloud": {},
  "kernelspec": {
   "display_name": "Python [default]",
   "language": "python",
   "name": "python3"
  },
  "language_info": {
   "codemirror_mode": {
    "name": "ipython",
    "version": 3
   },
   "file_extension": ".py",
   "mimetype": "text/x-python",
   "name": "python",
   "nbconvert_exporter": "python",
   "pygments_lexer": "ipython3",
   "version": "3.5.2"
  }
 },
 "nbformat": 4,
 "nbformat_minor": 2
}
