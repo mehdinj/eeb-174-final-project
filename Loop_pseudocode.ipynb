{
 "cells": [
  {
   "cell_type": "markdown",
   "metadata": {},
   "source": [
    "# Loop function for finding occurances of each uniqe order\n",
    "## project Avian Atherosclerosis\n",
    "\n",
    "** to get the number of occurances for each uniqe order from dataset, I use a loop**\n",
    "\n",
    "Atherodataset = Open and read Atherodataset.csv\n",
    "\n",
    "my_orders= list uniqe orders in Atherodataset\n",
    "\n",
    "    for each line of entry in Atherodataset:\n",
    "    \n",
    "           if find entry in my_orders \n",
    "               add one to the occurances of that specific order\n",
    "       \n",
    "my_occurances = list of number of reports of each uniqe order in the dataset\n"
   ]
  },
  {
   "cell_type": "code",
   "execution_count": null,
   "metadata": {
    "collapsed": true
   },
   "outputs": [],
   "source": []
  },
  {
   "cell_type": "code",
   "execution_count": null,
   "metadata": {
    "collapsed": true
   },
   "outputs": [],
   "source": []
  }
 ],
 "metadata": {
  "anaconda-cloud": {},
  "kernelspec": {
   "display_name": "Python [default]",
   "language": "python",
   "name": "python3"
  },
  "language_info": {
   "codemirror_mode": {
    "name": "ipython",
    "version": 3
   },
   "file_extension": ".py",
   "mimetype": "text/x-python",
   "name": "python",
   "nbconvert_exporter": "python",
   "pygments_lexer": "ipython3",
   "version": "3.5.2"
  }
 },
 "nbformat": 4,
 "nbformat_minor": 2
}
