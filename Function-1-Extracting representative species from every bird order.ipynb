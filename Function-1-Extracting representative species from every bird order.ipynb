{
 "cells": [
  {
   "cell_type": "code",
   "execution_count": 35,
   "metadata": {
    "collapsed": true
   },
   "outputs": [],
   "source": [
    "# This dummy data set is defined here for demonstration purposes, the original file is 10,000 lines!\n",
    "dummy_data=\"\"\"28,Struthio camelus,Struthio_camelus,Paleognathae,Paleognaths,Paleognaths,Ostrich,bow00028,LC,BL3,Struthionidae,Ostriches,2,STRUTHIONIFORMES,NONPASSERIFORMES,NONPASSERIFORMES\n",
    "37,Rhea americana,Rhea_americana,Paleognathae,Paleognaths,Paleognaths,Greater Rhea,bow00037,NT,BL3,Rheidae,Rheas,3,RHEIFORMES,NONPASSERIFORMES,NONPASSERIFORMES\n",
    "38,Rhea pennata,Rhea_pennata,Paleognathae,Paleognaths,Paleognaths,Lesser Rhea,bow00038,NT,BL3,Rheidae,Rheas,3,RHEIFORMES,NONPASSERIFORMES,NONPASSERIFORMES\n",
    "45,Casuarius casuarius,Casuarius_casuarius,Paleognathae,Paleognaths,Paleognaths,Southern Cassowary,bow00045,VU,BL3,Casuariidae,Cassowaries,4,CASUARIIFORMES,NONPASSERIFORMES,NONPASSERIFORMES\n",
    "46,Casuarius bennetti,Casuarius_bennetti,Paleognathae,Paleognaths,Paleognaths,Dwarf Cassowary,bow00046,NT,BL3,Casuariidae,Cassowaries,4,CASUARIIFORMES,NONPASSERIFORMES,NONPASSERIFORMES\n",
    "47,Casuarius unappendiculatus,Casuarius_unappendiculatus,Paleognathae,Paleognaths,Paleognaths,Northern Cassowary,bow00047,VU,BL3,Casuariidae,Cassowaries,4,CASUARIIFORMES,NONPASSERIFORMES,NONPASSERIFORMES\n",
    "48,Dromaius novaehollandiae,Dromaius_novaehollandiae,Paleognathae,Paleognaths,Paleognaths,Emu,bow00048,LC,BL3,Dromaiidae,Emus,5,CASUARIIFORMES,NONPASSERIFORMES,NONPASSERIFORMES\n",
    "55,Apteryx australis,Apteryx_australis,Paleognathae,Paleognaths,Paleognaths,Southern Brown Kiwi,bow00055,VU,BL3,Apterygidae,Kiwis,6,APTERYGIFORMES,NONPASSERIFORMES,NONPASSERIFORMES\n",
    "57,Apteryx owenii,Apteryx_owenii,Paleognathae,Paleognaths,Paleognaths,Little Spotted Kiwi,bow00057,NT,BL3,Apterygidae,Kiwis,6,APTERYGIFORMES,NONPASSERIFORMES,NONPASSERIFORMES\n",
    "58,Apteryx haastii,Apteryx_haastii,Paleognathae,Paleognaths,Paleognaths,Great Spotted Kiwi,bow00058,VU,BL3,Apterygidae,Kiwis,6,APTERYGIFORMES,NONPASSERIFORMES,NONPASSERIFORMES\n",
    "65,Tinamus tao,Tinamus_tao,Paleognathae,Paleognaths,Paleognaths,Grey Tinamou,bow00065,LC,BL3,Tinamidae,Tinamous,1,TINAMIFORMES,NONPASSERIFORMES,NONPASSERIFORMES\n",
    "66,Tinamus solitarius,Tinamus_solitarius,Paleognathae,Paleognaths,Paleognaths,Solitary Tinamou,bow00066,NT,BL3,Tinamidae,Tinamous,1,TINAMIFORMES,NONPASSERIFORMES,NONPASSERIFORMES\n",
    "67,Tinamus osgoodi,Tinamus_osgoodi,Paleognathae,Paleognaths,Paleognaths,Black Tinamou,bow00067,VU,BL3,Tinamidae,Tinamous,1,TINAMIFORMES,NONPASSERIFORMES,NONPASSERIFORMES\n",
    "68,Tinamus major,Tinamus_major,Paleognathae,Paleognaths,Paleognaths,Great Tinamou,bow00068,LC,BL3,Tinamidae,Tinamous,1,TINAMIFORMES,NONPASSERIFORMES,NONPASSERIFORMES\n",
    "69,Tinamus guttatus,Tinamus_guttatus,Paleognathae,Paleognaths,Paleognaths,White-throated Tinamou,bow00069,LC,BL3,Tinamidae,Tinamous,1,TINAMIFORMES,NONPASSERIFORMES,NONPASSERIFORMES\n",
    "70,Nothocercus bonapartei,Nothocercus_bonapartei,Paleognathae,Paleognaths,Paleognaths,Highland Tinamou,bow00070,LC,BL3,Tinamidae,Tinamous,1,TINAMIFORMES,NONPASSERIFORMES,NONPASSERIFORMES\n",
    "71,Nothocercus julius,Nothocercus_julius,Paleognathae,Paleognaths,Paleognaths,Tawny-breasted Tinamou,bow00071,LC,BL3,Tinamidae,Tinamous,1,TINAMIFORMES,NONPASSERIFORMES,NONPASSERIFORMES\n",
    "72,Nothocercus nigrocapillus,Nothocercus_nigrocapillus,Paleognathae,Paleognaths,Paleognaths,Hooded Tinamou,bow00072,LC,BL3,Tinamidae,Tinamous,1,TINAMIFORMES,NONPASSERIFORMES,NONPASSERIFORMES\n",
    "73,Crypturellus berlepschi,Crypturellus_berlepschi,Paleognathae,Paleognaths,Paleognaths,Berlepsch's Tinamou,bow00073,LC,BL3,Tinamidae,Tinamous,1,TINAMIFORMES,NONPASSERIFORMES,NONPASSERIFORMES\n",
    "74,Crypturellus cinereus,Crypturellus_cinereus,Paleognathae,Paleognaths,Paleognaths,Cinereous Tinamou,bow00074,LC,BL3,Tinamidae,Tinamous,1,TINAMIFORMES,NONPASSERIFORMES,NONPASSERIFORMES\n",
    "75,Crypturellus soui,Crypturellus_soui,Paleognathae,Paleognaths,Paleognaths,Little Tinamou,bow00075,LC,BL3,Tinamidae,Tinamous,1,TINAMIFORMES,NONPASSERIFORMES,NONPASSERIFORMES\n",
    "76,Crypturellus ptaritepui,Crypturellus_ptaritepui,Paleognathae,Paleognaths,Paleognaths,Tepui Tinamou,bow00076,LC,BL3,Tinamidae,Tinamous,1,TINAMIFORMES,NONPASSERIFORMES,NONPASSERIFORMES\n",
    "77,Crypturellus obsoletus,Crypturellus_obsoletus,Paleognathae,Paleognaths,Paleognaths,Brown Tinamou,bow00077,LC,BL3,Tinamidae,Tinamous,1,TINAMIFORMES,NONPASSERIFORMES,NONPASSERIFORMES\n",
    "78,Crypturellus cinnamomeus,Crypturellus_cinnamomeus,Paleognathae,Paleognaths,Paleognaths,Thicket Tinamou,bow00078,LC,BL3,Tinamidae,Tinamous,1,TINAMIFORMES,NONPASSERIFORMES,NONPASSERIFORMES\n",
    "80,Crypturellus undulatus,Crypturellus_undulatus,Paleognathae,Paleognaths,Paleognaths,Undulated Tinamou,bow00080,LC,BL3,Tinamidae,Tinamous,1,TINAMIFORMES,NONPASSERIFORMES,NONPASSERIFORMES\n",
    "81,Crypturellus transfasciatus,Crypturellus_transfasciatus,Paleognathae,Paleognaths,Paleognaths,Pale-browed Tinamou,bow00081,NT,BL3,Tinamidae,Tinamous,1,TINAMIFORMES,NONPASSERIFORMES,NONPASSERIFORMES\n",
    "82,Crypturellus strigulosus,Crypturellus_strigulosus,Paleognathae,Paleognaths,Paleognaths,Brazilian Tinamou,bow00082,LC,BL3,Tinamidae,Tinamous,1,TINAMIFORMES,NONPASSERIFORMES,NONPASSERIFORMES\n",
    "83,Crypturellus boucardi,Crypturellus_boucardi,Paleognathae,Paleognaths,Paleognaths,Slaty-breasted Tinamou,bow00083,LC,BL3,Tinamidae,Tinamous,1,TINAMIFORMES,NONPASSERIFORMES,NONPASSERIFORMES\n",
    "84,Crypturellus kerriae,Crypturellus_kerriae,Paleognathae,Paleognaths,Paleognaths,Choco Tinamou,bow00084,VU,BL3,Tinamidae,Tinamous,1,TINAMIFORMES,NONPASSERIFORMES,NONPASSERIFORMES\n",
    "85,Crypturellus erythropus,Crypturellus_erythropus,Paleognathae,Paleognaths,Paleognaths,Red-legged Tinamou,bow00085,LC,BL3,Tinamidae,Tinamous,1,TINAMIFORMES,NONPASSERIFORMES,NONPASSERIFORMES\n",
    "87,Crypturellus duidae,Crypturellus_duidae,Paleognathae,Paleognaths,Paleognaths,Grey-legged Tinamou,bow00087,LC,BL3,Tinamidae,Tinamous,1,TINAMIFORMES,NONPASSERIFORMES,NONPASSERIFORMES\n",
    "88,Crypturellus noctivagus,Crypturellus_noctivagus,Paleognathae,Paleognaths,Paleognaths,Yellow-legged Tinamou,bow00088,NT,BL3,Tinamidae,Tinamous,1,TINAMIFORMES,NONPASSERIFORMES,NONPASSERIFORMES\n",
    "89,Crypturellus atrocapillus,Crypturellus_atrocapillus,Paleognathae,Paleognaths,Paleognaths,Black-capped Tinamou,bow00089,LC,BL3,Tinamidae,Tinamous,1,TINAMIFORMES,NONPASSERIFORMES,NONPASSERIFORMES\n",
    "90,Crypturellus variegatus,Crypturellus_variegatus,Paleognathae,Paleognaths,Paleognaths,Variegated Tinamou,bow00090,LC,BL3,Tinamidae,Tinamous,1,TINAMIFORMES,NONPASSERIFORMES,NONPASSERIFORMES\n",
    "91,Crypturellus brevirostris,Crypturellus_brevirostris,Paleognathae,Paleognaths,Paleognaths,Rusty Tinamou,bow00091,LC,BL3,Tinamidae,Tinamous,1,TINAMIFORMES,NONPASSERIFORMES,NONPASSERIFORMES\n",
    "92,Crypturellus bartletti,Crypturellus_bartletti,Paleognathae,Paleognaths,Paleognaths,Bartlett's Tinamou,bow00092,LC,BL3,Tinamidae,Tinamous,1,TINAMIFORMES,NONPASSERIFORMES,NONPASSERIFORMES\n",
    "93,Crypturellus parvirostris,Crypturellus_parvirostris,Paleognathae,Paleognaths,Paleognaths,Small-billed Tinamou,bow00093,LC,BL3,Tinamidae,Tinamous,1,TINAMIFORMES,NONPASSERIFORMES,NONPASSERIFORMES\n",
    "94,Crypturellus casiquiare,Crypturellus_casiquiare,Paleognathae,Paleognaths,Paleognaths,Barred Tinamou,bow00094,LC,BL3,Tinamidae,Tinamous,1,TINAMIFORMES,NONPASSERIFORMES,NONPASSERIFORMES\n",
    "95,Crypturellus tataupa,Crypturellus_tataupa,Paleognathae,Paleognaths,Paleognaths,Tataupa Tinamou,bow00095,LC,BL3,Tinamidae,Tinamous,1,TINAMIFORMES,NONPASSERIFORMES,NONPASSERIFORMES\n",
    "96,Rhynchotus rufescens,Rhynchotus_rufescens,Paleognathae,Paleognaths,Paleognaths,Red-winged Tinamou,bow00096,LC,BL3,Tinamidae,Tinamous,1,TINAMIFORMES,NONPASSERIFORMES,NONPASSERIFORMES\n",
    "98,Nothoprocta taczanowskii,Nothoprocta_taczanowskii,Paleognathae,Paleognaths,Paleognaths,Taczanowski's Tinamou,bow00098,VU,BL3,Tinamidae,Tinamous,1,TINAMIFORMES,NONPASSERIFORMES,NONPASSERIFORMES\n",
    "100,Nothoprocta ornata,Nothoprocta_ornata,Paleognathae,Paleognaths,Paleognaths,Ornate Tinamou,bow00100,LC,BL3,Tinamidae,Tinamous,1,TINAMIFORMES,NONPASSERIFORMES,NONPASSERIFORMES\n",
    "101,Nothoprocta pentlandii,Nothoprocta_pentlandii,Paleognathae,Paleognaths,Paleognaths,Andean Tinamou,bow00101,LC,BL3,Tinamidae,Tinamous,1,TINAMIFORMES,NONPASSERIFORMES,NONPASSERIFORMES\n",
    "102,Nothoprocta cinerascens,Nothoprocta_cinerascens,Paleognathae,Paleognaths,Paleognaths,Brushland Tinamou,bow00102,LC,BL3,Tinamidae,Tinamous,1,TINAMIFORMES,NONPASSERIFORMES,NONPASSERIFORMES\n",
    "103,Nothoprocta perdicaria,Nothoprocta_perdicaria,Paleognathae,Paleognaths,Paleognaths,Chilean Tinamou,bow00103,LC,BL3,Tinamidae,Tinamous,1,TINAMIFORMES,NONPASSERIFORMES,NONPASSERIFORMES\n",
    "104,Nothoprocta curvirostris,Nothoprocta_curvirostris,Paleognathae,Paleognaths,Paleognaths,Curve-billed Tinamou,bow00104,LC,BL3,Tinamidae,Tinamous,1,TINAMIFORMES,NONPASSERIFORMES,NONPASSERIFORMES\n",
    "105,Nothura darwinii,Nothura_darwinii,Paleognathae,Paleognaths,Paleognaths,Darwin's Nothura,bow00105,LC,BL3,Tinamidae,Tinamous,1,TINAMIFORMES,NONPASSERIFORMES,NONPASSERIFORMES\n",
    "106,Nothura chacoensis,Nothura_chacoensis,Paleognathae,Paleognaths,Paleognaths,Chaco Nothura,bow00106,LC,BL3,Tinamidae,Tinamous,1,TINAMIFORMES,NONPASSERIFORMES,NONPASSERIFORMES\n",
    "107,Nothura maculosa,Nothura_maculosa,Paleognathae,Paleognaths,Paleognaths,Spotted Nothura,bow00107,LC,BL3,Tinamidae,Tinamous,1,TINAMIFORMES,NONPASSERIFORMES,NONPASSERIFORMES\"\"\"\n"
   ]
  },
  {
   "cell_type": "code",
   "execution_count": 36,
   "metadata": {
    "collapsed": false
   },
   "outputs": [
    {
     "data": {
      "text/plain": [
       "{'APTERYGIFORMES': 'Dromaius_novaehollandiae',\n",
       " 'CASUARIIFORMES': 'Rhea_pennata',\n",
       " 'RHEIFORMES': 'Struthio_camelus',\n",
       " 'TINAMIFORMES': 'Apteryx_haastii'}"
      ]
     },
     "execution_count": 36,
     "metadata": {},
     "output_type": "execute_result"
    }
   ],
   "source": [
    "\n",
    "def make_tip_labels():#(filename=\"BLIOCPhyloMasterTaxPrumJarvis.csv\"):\n",
    "#this function will extract one representative tip label(species) from every bird oder in the master phylogeny file\n",
    "    \n",
    " #tip label = list index 2 order = list index 13\n",
    "    import csv\n",
    "    import sys\n",
    "    \n",
    "    \n",
    "    #file_object=open(filename, \"r\", encoding= \"ISO-8859-15\") #open the file(when opening the real data file)\n",
    "    \n",
    "    #master_phylo=csv.reader(file_object) #read the file line by line (working with real data file)\n",
    "    \n",
    "    #next(master_phylo,None) #skipping the header(for real data file)\n",
    "    \n",
    "    dummy_data_splitted=dummy_data.splitlines()\n",
    "    \n",
    "    tip_label_dict={} #defining dictionary that will eventually have all tipl labels and orders\n",
    "    \n",
    "    specie=\"Struthio_camelus\"#defining the first species for temp specie repo\n",
    "    all_orders=[\"STRUTHIONIFORMES\"]#defining the list of orders\n",
    "    order=\"STRUTHIONIFORMES\"# defning first order for temp order repo\n",
    "    \n",
    "    for line in dummy_data_splitted:#master_phylo: #loop over every line of the master phylogeny file\n",
    "        \n",
    "        line=line.split(\",\")\n",
    "       # single_line_list = line.split(\",\") #splits everyline by comma\n",
    "        \n",
    "        \n",
    "        if line[13] in all_orders: #overwriting the order if the order changes in a line\n",
    "            specie=line[2] #defining the new specie in particular line\n",
    "            \n",
    "        else:  \n",
    "            \n",
    "            tip_label_dict[line[13]]=specie #populating the dictionary\n",
    "            \n",
    "            orde=line[13]#updating the new temp order\n",
    "            all_orders.append(line[13])#append the new order to the list of orders\n",
    "            specie=line[2] #defining the new specie in particular line    \n",
    "            \n",
    "    return(tip_label_dict)\n",
    "\n",
    "make_tip_labels()"
   ]
  },
  {
   "cell_type": "code",
   "execution_count": null,
   "metadata": {
    "collapsed": true
   },
   "outputs": [],
   "source": []
  }
 ],
 "metadata": {
  "anaconda-cloud": {},
  "kernelspec": {
   "display_name": "Python [default]",
   "language": "python",
   "name": "python3"
  },
  "language_info": {
   "codemirror_mode": {
    "name": "ipython",
    "version": 3
   },
   "file_extension": ".py",
   "mimetype": "text/x-python",
   "name": "python",
   "nbconvert_exporter": "python",
   "pygments_lexer": "ipython3",
   "version": "3.5.2"
  }
 },
 "nbformat": 4,
 "nbformat_minor": 2
}
