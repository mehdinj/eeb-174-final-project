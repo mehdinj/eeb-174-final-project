{
 "cells": [
  {
   "cell_type": "markdown",
   "metadata": {},
   "source": [
    "# Evolution of Spontanouse Avian Atherosclerosis \n",
    "*** Mehdi Nojoumi ***\n",
    "<br><br>\n",
    "<img src=\"./outlinefigs/cover.jpg\" width=\"600\" height=\"600\" alt=\"Alt_name\" title=\"Mytitle\" align=\"center\" />\n",
    "* Image showing the advancement of atherosclerosis and histological classification of the disease.*\n",
    "<br>*image source: http://www.carlagoldenwellness.com/2015/04/13/6-health-preserving-reasons-to-stop-consuming-oil/*\n"
   ]
  },
  {
   "cell_type": "markdown",
   "metadata": {},
   "source": [
    "# Introduction \n",
    "\n",
    "My project is about the spontanous occurance of atherosclerosis in birds. We have conducted a systematic review of the reported cases of spontanous atherosclerosis in birds. We have searched for the term \"{aherosclerosis OR arteriosclerosis} AND {bird* OR avian}\" in web of science, and we have received 1722 search results.We have screened the papers for cases of spontanous atherosclerosis. We have found 105 papers that mention occurance of spontanouse atherosclerosis in birds. We have collected the papers, species name and the order of the bird in each citation, whether athero was induced, whether the animals were captive and whether there is a mention of succeptibility or resistance to athero in each citation. We want to visualize a phylogenitic map of occurance of atherosclerosis in birds to understand the evolution of athero in birds and the models of bird resistance or succeptibility to atherosclerosis.\n",
    "<br><br>\n",
    "This research takes an evolutionary medicine approach to the question of occurance of one of the most common and fatal \"human\" dieases in animals (finnlayson 1962). Although the evolution of atherosclerosis in birds has not been explored in literature, other comparative studies have taken this approach for other diseases. For instance, blumstein et al. (2015), have studies the capture myopathy in hooved mammals. Abbeglen et al. (2015) have found a mechanism for cancer resistence in elephants in a similar comparative approach.\n",
    "The succeptibility or resistence found in parituclar avian groups can reveal inherent evolutionary causes of athero in humans, which can provide valuable insight into how evolution has shaped the factors that has increased humas's scucceptibility to atherosclerosis.\n",
    "<br><br>\n",
    "The aim of the project is to make ancestral reconstruction of succeptibility to spontanouse atherosclerosis in birds. I then want to visualize the phylogenetic map of spontanouse atherosclerosis in birds and determine whether the differences in occurance of athero in different avian orders represent inherent succeptibility or resistance in particular bird orders. \n",
    "\n"
   ]
  },
  {
   "cell_type": "markdown",
   "metadata": {},
   "source": [
    "# Limitations\n",
    "Sampling of characters within the birds phylogeny results in the reconstruction of atherosclerosis evolution. However, missing data has an important effect on ancestral state reconstruction and estimates of atherosclerosis evolution. Because most species of birds have not been sampled for the presence or absence of spontanouse atherosclerosis mainly due to the bias for studying certain species (i.e. chicken, turkey, pigeon) in the literature, the results are greatly affected. Absence of evidence is not simply the evidence of absence, even thought the data is being used in this fashion. Ultimately, the limitations should be taken into considerations when discussing the results."
   ]
  },
  {
   "cell_type": "markdown",
   "metadata": {},
   "source": [
    "# Code and Steps\n",
    "\n",
    "# 1\n",
    "***First, I needed to know the orders that have occurance of atherosclerosis. Therefore, I have extracted the uniqe order in my dataset with the following shell command:***\n",
    "\n",
    "```tail -n +2 athero.csv | cut -d \",\" -f 6 |sort|uniq```\n"
   ]
  },
  {
   "cell_type": "markdown",
   "metadata": {},
   "source": [
    "***This is useful later on when identifying orders in the tree with atherosclerosis, output:***\n",
    "```Anseriformes\n",
    "Accipitriformes\n",
    "Ciconiiformes\n",
    "Columbiformes\n",
    "Falconiformes\n",
    "Galliformes\n",
    "Gruiformes\n",
    "Pelecaniformes\n",
    "Psittaciformes\n",
    "Struthioniformes```"
   ]
  },
  {
   "cell_type": "markdown",
   "metadata": {},
   "source": [
    "# 2\n",
    "***Then, I had to extract a representative tip_label from every order in master phylogeny of all birds, with nearly 10,000 species in it, the following function achieves that goal***\n",
    "<br><br>\n",
    "*** Please note that all executable functions discussed here are avilable in my Github repository with compatible dummy files to try out!***"
   ]
  },
  {
   "cell_type": "markdown",
   "metadata": {},
   "source": [
    "```\n",
    "def make_tip_labels(filename=\"BLIOCPhyloMasterTaxPrumJarvis.csv\"):\n",
    "#this function will extract one representative tip label(species) from every bird oder in the master phylogeny file\n",
    "    \n",
    " #tip label = list index 2, order = list index 13\n",
    "    import csv\n",
    "    import sys\n",
    "    \n",
    "    \n",
    "    file_object=open(filename, \"r\", encoding= \"ISO-8859-15\")#open the file\n",
    "    \n",
    "    output=open(\"tip_label_reps.csv\", \"w\")\n",
    "    \n",
    "    master_phylo=csv.reader(file_object)#read the file line by line \n",
    "    \n",
    "    next(master_phylo,None)#skipping the header\n",
    "    \n",
    "    \n",
    "   \n",
    "    \n",
    "    tip_label_dict={} #defining dictionary that will eventually have all tipl labels and orders\n",
    "    \n",
    "    specie=\"Struthio_camelus\"#defining the first species for temp specie repo\n",
    "    all_orders=[\"STRUTHIONIFORMES\"]#defining the list of orders\n",
    "    order=\"STRUTHIONIFORMES\"# defning first order for temp order repo\n",
    "    \n",
    "    for line in master_phylo: #loop over every line of the master phylogeny file\n",
    "        \n",
    "       \n",
    "        \n",
    "        \n",
    "        if line[13] in all_orders: #overwriting the order if the order changes in a line\n",
    "            tip_label_dict[line[13]]=specie #populating the dictionary\n",
    "            specie=line[2] #defining the new specie in particular line\n",
    "            \n",
    "        else:  \n",
    "            \n",
    "            \n",
    "            \n",
    "            orde=line[13]#updating the new temp order\n",
    "            all_orders.append(line[13])#append the new order to the list of orders\n",
    "            specie=line[2] #defining the new specie in particular line    \n",
    "            \n",
    " \n",
    "    \n",
    "    return tip_label_dict\n",
    "\n",
    "        \n",
    "        ```"
   ]
  },
  {
   "cell_type": "markdown",
   "metadata": {},
   "source": [
    "*** The above function returns the output as a dictionary which will be very useful in subsequent steps, output:***"
   ]
  },
  {
   "cell_type": "markdown",
   "metadata": {},
   "source": [
    "```{'ACCIPITRIFORMES': 'Hieraaetus_weiskei',\n",
    " 'ANSERIFORMES': 'Anas_eatoni',\n",
    " 'APODIFORMES': 'Xiphorhynchus_elegans',\n",
    " 'APTERYGIFORMES': 'Pyrilia_aurantiocephala',\n",
    " 'BUCEROTIFORMES': 'Penelopides_samarensis',\n",
    " 'CAPRIMULGIFORMES': 'Caprimulgus_heterurus',\n",
    " 'CARIAMIFORMES': 'Cariama_cristata',\n",
    " 'CASUARIIFORMES': 'Casuarius_unappendiculatus',\n",
    " 'CHARADRIIFORMES': 'Gygis_microrhyncha',\n",
    " 'CICONIIFORMES': 'Leptoptilos_crumeniferus',\n",
    " 'COLIIFORMES': 'Urocolius_macrourus',\n",
    " 'COLUMBIFORMES': 'Phapitreron_brunneiceps',\n",
    " 'CORACIIFORMES': 'Todiramphus_recurvirostris',\n",
    " 'CUCULIFORMES': 'Eudynamys_orientalis',\n",
    " 'EURYPYGIFORMES': 'Chunga_burmeisteri',\n",
    " 'FALCONIFORMES': 'Caracara_cheriway',\n",
    " 'GALLIFORMES': 'Dendragapus_fuliginosus',\n",
    " 'GAVIIFORMES': 'Eudyptes_moseleyi',\n",
    " 'GRUIFORMES': 'Ducula_subflavescens',\n",
    " 'MESITORNITHIFORMES': 'Mesitornis_unicolor',\n",
    " 'MUSOPHAGIFORMES': 'Crinifer_zonurus',\n",
    " 'OTIDIFORMES': 'Houbaropsis_bengalensis',\n",
    " 'PASSERIFORMES': 'Cinclodes_olrogi',\n",
    " 'PELECANIFORMES': 'Threskiornis_bernieri',\n",
    " 'PHAETHONTIFORMES': 'Phaethon_rubricauda',\n",
    " 'PHOENICOPTERIFORMES': 'Butorides_virescens',\n",
    " 'PICIFORMES': 'Ramphastos_swainsonii',\n",
    " 'PODICIPEDIFORMES': 'Aechmophorus_occidentalis',\n",
    " 'PROCELLARIIFORMES': 'Thalassarche_carteri',\n",
    " 'PSITTACIFORMES': 'Amazona_oratrix',\n",
    " 'PTEROCLIDIFORMES': 'Pterocles_lichtensteinii',\n",
    " 'RHEIFORMES': 'Rhea_americana',\n",
    " 'SPHENISCIFORMES': 'Pelecanus_thagus',\n",
    " 'STRIGIFORMES': 'Otus_siaoensis',\n",
    " 'STRUTHIONIFORMES': 'Struthio_camelus',\n",
    " 'SULIFORMES': 'Anhinga_novaehollandiae',\n",
    " 'TINAMIFORMES': 'Apteryx_mantelli',\n",
    " 'TROGONIFORMES': 'Trogon_aurantiiventris'} ```"
   ]
  },
  {
   "cell_type": "markdown",
   "metadata": {},
   "source": [
    "# 3\n",
    "*** Then, I have to make sure that the tip labels extracted from master phylogeny data do really exist in the bird tree file (.tre) to make sure that the tip labels are legitimate. The following function achieves that goal***"
   ]
  },
  {
   "cell_type": "markdown",
   "metadata": {},
   "source": [
    "```\n",
    "def check_tip_labels(tip_label_dict):\n",
    "#this function will check if the extracted tip labels from make_tip_labels function exist in master bird tree file\n",
    "#and out puts those tip labels in a csv file\n",
    "    \n",
    "    import csv\n",
    "    import sys\n",
    "    import re\n",
    "    \n",
    "    file_object=open(\"Hackett_Stage2_1K_MCCtree_TargetHeights.tre\",\"r\")#opens master bird tree\n",
    "    master_bird_tree=file_object.read()#reads master bird tree as a string\n",
    "    \n",
    "    \n",
    "    \n",
    "    matches=0 #startig matches and misses counter\n",
    "    misses=0 \n",
    "    for values, keys in tip_label_dict.items():#loop goes over all key value pairs in the dictionary provided by m\n",
    "    \n",
    "        if re.match(pattern=keys, string=master_bird_tree)!=\"\": #if search for the tip label is not empty, increase match by one\n",
    "            matches=matches+1 #increases macthed by one\n",
    "            print(\"Specie matched = \"+keys) #prints the tip label that had been matched\n",
    "        else:\n",
    "            misses=misses+1 #otherwise, increases misses by one\n",
    "    \n",
    "    print(\"Matches = \"+str(matches)+\", Misses = \"+str(misses)) #print the number of matches and misses\n",
    "\n",
    "```    \n",
    "   "
   ]
  },
  {
   "cell_type": "markdown",
   "metadata": {},
   "source": [
    "***The output shows the name of tip labels (species) that had been matched along with the number of misses and matches, output:***"
   ]
  },
  {
   "cell_type": "markdown",
   "metadata": {},
   "source": [
    "```\n",
    "Specie matched = Urocolius_indicus\n",
    "Specie matched = Tinamotis_ingoufi\n",
    "Specie matched = Eleothreptus_anomalus\n",
    "Specie matched = Merops_nubicus\n",
    "Specie matched = Struthio_camelus\n",
    "Specie matched = Aegotheles_albertisi\n",
    "Specie matched = Rhynchortyx_cinctus\n",
    "Specie matched = Sypheotides_indicus\n",
    "Specie matched = Neomorphus_pucheranii\n",
    "Specie matched = Fulica_cornuta\n",
    "Specie matched = Uratelornis_chimaera\n",
    "Specie matched = Eurypyga_helias\n",
    "Specie matched = Dromaius_novaehollandiae\n",
    "Specie matched = Phaethon_lepturus\n",
    "Specie matched = Fratercula_cirrhata\n",
    "Specie matched = Rhinopomastus_minor\n",
    "Specie matched = Rhea_pennata\n",
    "Specie matched = Monias_benschi\n",
    "Specie matched = Ortyxelos_meiffrenii\n",
    "Specie matched = Triclaria_malachitacea\n",
    "Specie matched = Chelidoptera_tenebrosa\n",
    "Specie matched = Falco_fasciinucha\n",
    "Specie matched = Fregata_andrewsi\n",
    "Specie matched = Spheniscus_mendiculus\n",
    "Specie matched = Phalacrocorax_featherstoni\n",
    "Specie matched = Gavia_adamsii\n",
    "Specie matched = Psophia_viridis\n",
    "Specie matched = Didunculus_strigirostris\n",
    "Specie matched = Apteryx_haastii\n",
    "Specie matched = Aechmophorus_clarkii\n",
    "Specie matched = Oceanodroma_furcata\n",
    "Specie matched = Sarcoramphus_papa\n",
    "Specie matched = Sagittarius_serpentarius\n",
    "Specie matched = Opisthocomus_hoazin\n",
    "Specie matched = Harpactes_wardi\n",
    "Specie matched = Mergus_merganser\n",
    "Specie matched = Scopus_umbretta\n",
    "Specie matched = Corythaeola_cristata\n",
    "Specie matched = Selasphorus_ardens\n",
    "Matches = 39, Misses = 0 ```"
   ]
  },
  {
   "cell_type": "markdown",
   "metadata": {},
   "source": [
    "# 4\n",
    "*** Then, I need to extract all tip labels that are not a representative of their order, This is necessary in order to prune down (shrink) the 10,000 bird species tree to few tip labels that represent each order, in order to analyze the data in the level of orders. The output is a large csv file close to the original master phylogeny (10,000 - represented orders). The following code achieves that.***"
   ]
  },
  {
   "cell_type": "markdown",
   "metadata": {},
   "source": [
    "```\n",
    "def make_non_occurance(tip_label_dict, filename=\"BLIOCPhyloMasterTaxPrumJarvis.csv\"):\n",
    "# this function extracts all non-representative species in order to drop those tip labels when working with R\n",
    "    \n",
    "    #tip label = list index[2]  order = list index [13]\n",
    "    \n",
    "    import csv\n",
    "    import sys\n",
    "    \n",
    "    \n",
    "    file_object=open(filename, \"r\", encoding= \"ISO-8859-15\")#open the file\n",
    "    \n",
    "    master_phylo=csv.reader(file_object)#read the file line by line \n",
    "    \n",
    "    next(master_phylo,None)#skipping the header\n",
    "    \n",
    "    output=open(\"non_occurance_reps.csv\", \"w\")#opening output file\n",
    "    \n",
    "      \n",
    "    \n",
    "    for line in master_phylo: #loop over every line of the master phylogeny file\n",
    "       \n",
    "        \n",
    "       \n",
    "    \n",
    "        if line[2] not in dd.values(): #if the species is not in the list of representative species, it will be in output\n",
    "            \n",
    "            output.write(line[2]+\"\\r\") #populating otput file with non-representative species \n",
    "            #\"\\r\" is used because Rstudio handles line endings with \"\\r\" better than \"\\n\"\n",
    "            \n",
    "            \n",
    "            \n",
    "            ```"
   ]
  },
  {
   "cell_type": "markdown",
   "metadata": {},
   "source": [
    "*** The output file is a large file, close to 10,000 lines, a small heading of the output is shown here:***\n",
    "```\n",
    "Rhea_pennata,\n",
    "Casuarius_casuarius,\n",
    "Casuarius_bennetti,\n",
    "Dromaius_novaehollandiae,\n",
    "Apteryx_australis,\n",
    "Apteryx_owenii,\n",
    "Apteryx_haastii,\n",
    "Tinamus_tao,\n",
    "Tinamus_solitarius,\n",
    "Tinamus_osgoodi,\n",
    "Tinamus_major,\n",
    "Tinamus_guttatus,\n",
    "Nothocercus_bonapartei,\n",
    "Nothocercus_julius,\n",
    "Nothocercus_nigrocapillus,\n",
    "Crypturellus_berlepschi,\n",
    "Crypturellus_cinereus,\n",
    "Crypturellus_soui,\n",
    "Crypturellus_ptaritepui,\n",
    "Crypturellus_obsoletus,\n",
    "Crypturellus_cinnamomeus,\n",
    "...\n",
    "```"
   ]
  },
  {
   "cell_type": "markdown",
   "metadata": {},
   "source": [
    "# 5 \n",
    "*** I also want to have a list of tip labels from orders that atherosclerosis have occurred in them for subsequent steps. The following code achieves that.***"
   ]
  },
  {
   "cell_type": "markdown",
   "metadata": {},
   "source": [
    "```\n",
    "def make_occurance(filename= \"Dataset.csv\"):\n",
    "#this function will extract all orders of occurance of athero from a csv file and outputs the representative of each order that has been chosen by function 1\n",
    "#this function is used to make a list of occurance order for later use in Rstudio\n",
    "    \n",
    "    import csv\n",
    "    import sys\n",
    "    \n",
    "    file_object=open(filename, encoding= \"ISO-8859-15\") #openning the input file\n",
    "\n",
    "    reader=file_object.readlines()[1:] #reads the input file\n",
    "    \n",
    " \n",
    "    \n",
    "    output=open(\"occurance_species.csv\", \"w\") #opens the output file foe later analysis in R\n",
    "    \n",
    "    \n",
    "    \n",
    "    \n",
    "    function_1_output=make_tip_labels() #this defines the function 1 output but it is modified here for purpose of demonstration\n",
    "    \n",
    "    for line in reader:\n",
    "        \n",
    "       \n",
    "        output.write(function_1_output[line]+\"\\r\") #populates the output file, \"\\n\" could also be used here, \"\\r\" was used here because Rstudio handles \"\\r\" better for later analysis\n",
    "        \n",
    "        \n",
    "        print(function_1_output[line]) #for the purpose of demonstration the, output is shown here as well!\n",
    "```\n"
   ]
  },
  {
   "cell_type": "markdown",
   "metadata": {},
   "source": [
    "***output of tip labels with occurance of atherosclerosis:***\n",
    "```\n",
    "Ducula_subflavescens\n",
    "Phapitreron_brunneiceps\n",
    "Threskiornis_bernieri\n",
    "Hieraaetus_weiskei\n",
    "Caracara_cheriway\n",
    "Amazona_oratrix\n",
    "Struthio_camelus\n",
    "Dendragapus_fuliginosus\n",
    "Leptoptilos_crumeniferus\n",
    "Anas_eatoni\n",
    "```"
   ]
  },
  {
   "cell_type": "markdown",
   "metadata": {},
   "source": [
    "# 6\n",
    "*** The next step is working with the Rstudio to read the input csv files, and read the master tree file. Make a list of tip_labels that are not representative of an order and prune down the tree to all essential representative tips***\n"
   ]
  },
  {
   "cell_type": "markdown",
   "metadata": {},
   "source": [
    "```\n",
    "# installing packages and updating libriaries\n",
    "\n",
    "#install.packages(\"devtools\")\n",
    "#install.packages(\"ape\")\n",
    "#install.packages(\"psych\")\n",
    "#install.packages(\"geiger\")\n",
    "#install.packages(\"phytools\")\n",
    "\n",
    "library(devtools)\n",
    "library(psych)\n",
    "library(ape)\n",
    "library(phytools)\n",
    "library(geiger)\n",
    "library(phytools)\n",
    "\n",
    "\n",
    "#for reading all non-representative tip labels\n",
    "nooccuranceallspecies<-read.csv(\"/Users/Mehdi/Documents/Classes/C177/Final project/non_occurance_reps.csv\", header = TRUE)\n",
    "length(nooccuranceallspecies)\n",
    "\n",
    "#for reading the ,aster tree file \n",
    "complete.tree<-read.tree(file=\"/Users/Mehdi/Documents/Classes/C177/Final project/nature21074-s2/Data/Hackett_Stage2_1K_MCCtree_TargetHeights.tre\")\n",
    "\n",
    "#openning occurance species csv file\n",
    "occurancespecies<-read.csv(\"/home/eeb177-student/Desktop/eeb-177/eeb-174-final-project/bird_occurance_reps.csv\", header = TRUE)\n",
    "\n",
    "#defining a list of all taxa to drop\n",
    "taxa_to_drop=(\"\")\n",
    "i<-1\n",
    "\n",
    "# this for loop iterates over all non represented species and makes a list of tip labels to drop in taxa_to_drop\n",
    "for (j in nooccuranceallspecies$Species){\n",
    "  taxa_to_drop[[i]]<-j\n",
    "  i=i+1\n",
    "  }\n",
    "\n",
    "#for removing the unwanted tips from the tree file, or dropping the taxa_to_drop \n",
    "simple.tree<-drop.tip(complete.tree,taxa_to_drop)\n",
    "\n",
    "#for plotting the tree\n",
    "plotTree(simple.tree,type=\"fan\",fsize=0.7,lwd=1)\n",
    "\n",
    "```\n",
    "\n"
   ]
  },
  {
   "cell_type": "markdown",
   "metadata": {},
   "source": [
    "***output is a bird tree with only representative species of each order:***\n",
    "\n",
    "<img src=\"./outlinefigs/Rplot.png\" width=\"800\" height=\"800\" alt=\"Alt_name\" title=\"Mytitle\" align=\"center\" />"
   ]
  },
  {
   "cell_type": "markdown",
   "metadata": {},
   "source": [
    "# 7\n",
    "\n",
    "*** Next I have to do ancestral state reconstruction for the discrete variable of occurance of atherosclerosis***\n",
    "*** I have used an equal rates (ER) model for ancestral reconstruction here, which assumes that gains and losses of athero are equal. I have plotted the tree with pie charts on each node that shows the probability of occurance of atherosclerosis in each node***\n",
    "\n",
    "```\n",
    "#setting x as species along with their occurance status. A= athero B=no athero\n",
    "x<-setNames(occurancespecies$Occurance,occurancespecies$Species)\n",
    "     \n",
    "#create a variable that matches the tip labels with the state of occurance and non-occurance of athero\n",
    "# this part will be modified for the presentation to reflect the data set.\n",
    "\n",
    "x<-setNames(y,simple.tree$tip.label)\n",
    "\n",
    "#single-rate(ER) model \n",
    "fitER<-ace(x,simple.tree,model=\"ER\",type=\"discrete\")\n",
    "fitER\n",
    "\n",
    "#plotting ER model on the tree\n",
    "cols<-setNames(c(\"red\",\"blue\"),levels(x))\n",
    "plotTree(simple.tree,type=\"fan\",fsize=0.6,ftype=\"i\",lwd=1)\n",
    "nodelabels(node=1:simple.tree$Nnode+Ntip(simple.tree),\n",
    "           pie=fitER$lik.anc,piecol=cols,cex=0.4)\n",
    "tiplabels(pie=to.matrix(x[simple.tree$tip.label],levels(x)),\n",
    "          piecol=cols,cex=0.3)\n",
    "add.simmap.legend(colors=cols,prompt=FALSE,x=0.9*par()$usr[1],\n",
    "                  y=0.8*par()$usr[3],fsize=0.8)\n",
    "\n",
    "```"
   ]
  },
  {
   "cell_type": "markdown",
   "metadata": {},
   "source": [
    "*** The tree shows a pie chart on each node for probability of having athero or no athero in that specific node:*** \n",
    "<br>\n",
    "***A=Athero, B=No Athero***\n"
   ]
  },
  {
   "cell_type": "markdown",
   "metadata": {},
   "source": [
    "<img src=\"./outlinefigs/Rplot001.png\" width=\"800\" height=\"800\" alt=\"Alt_name\" title=\"Mytitle\" align=\"center\" />\n"
   ]
  },
  {
   "cell_type": "markdown",
   "metadata": {},
   "source": [
    "***output of th equal rate (ER) model:***\n",
    "```\n",
    "> fitER\n",
    "\n",
    "    Ancestral Character Estimation\n",
    "\n",
    "Call: ace(x = x, phy = simple.tree, type = \"discrete\", model = \"ER\")\n",
    "\n",
    "    Log-likelihood: -25.64645 \n",
    "\n",
    "Rate index matrix:\n",
    "  A B\n",
    "A . 1\n",
    "B 1 .\n",
    "\n",
    "Parameter estimates:\n",
    " rate index estimate  std-err\n",
    "          1   0.3225 272.1624\n",
    "\n",
    "Scaled likelihoods at the root (type '...$lik.anc' to get them for all nodes):\n",
    "  A   B \n",
    "0.5 0.5 \n",
    "> \n",
    "```"
   ]
  },
  {
   "cell_type": "markdown",
   "metadata": {},
   "source": [
    "# 8\n",
    "***Next, I've done the same ancestral reconstruction with all rates different (ARD) model, which assumes that probabilities of gain and loss of athero are not equal. I wanted to know which model best fits the data that I have.***"
   ]
  },
  {
   "cell_type": "markdown",
   "metadata": {},
   "source": [
    "```\n",
    "#  model with the backward & forward rates between states are permitted to have different values\n",
    "fitARD<-ace(x,simple.tree,model=\"ARD\",type=\"discrete\")\n",
    "fitARD\n",
    "\n",
    "#plotting ARD model on the tree\n",
    "cols<-setNames(c(\"red\",\"blue\"),levels(x))\n",
    "plotTree(simple.tree,type=\"fan\",fsize=0.6,ftype=\"i\",lwd=1)\n",
    "nodelabels(node=1:simple.tree$Nnode+Ntip(simple.tree),\n",
    "           pie=fitARD$lik.anc,piecol=cols,cex=0.4)\n",
    "tiplabels(pie=to.matrix(x[simple.tree$tip.label],levels(x)),\n",
    "          piecol=cols,cex=0.3)\n",
    "add.simmap.legend(colors=cols,prompt=FALSE,x=0.9*par()$usr[1],\n",
    "                  y=0.8*par()$usr[3],fsize=0.8)\n",
    "\n",
    "```"
   ]
  },
  {
   "cell_type": "markdown",
   "metadata": {},
   "source": [
    "*** Tree shows a pie chart on each node for probability of having athero or no athero in that specific node (ARD model):*** \n",
    "<br>\n",
    "***A=Athero, B=No Athero***"
   ]
  },
  {
   "cell_type": "markdown",
   "metadata": {},
   "source": [
    "<img src=\"./outlinefigs/Rplot02.png\" width=\"800\" height=\"800\" alt=\"Alt_name\" title=\"Mytitle\" align=\"center\"/>"
   ]
  },
  {
   "cell_type": "markdown",
   "metadata": {},
   "source": [
    "***output of th equal rate (ARD) model: ARD model has a slightly better log-likelihood. Although the phylogentic map of occurance of athero is heavily influenced by lack of enough data mainly due to bias in the literature, the latter ARD model is a better fit and its results would be more accurate***\n",
    "```\n",
    "> fitARD\n",
    "\n",
    "    Ancestral Character Estimation\n",
    "\n",
    "Call: ace(x = x, phy = simple.tree, type = \"discrete\", model = \"ARD\")\n",
    "\n",
    "    Log-likelihood: -21.20755 \n",
    "\n",
    "Rate index matrix:\n",
    "  A B\n",
    "A . 2\n",
    "B 1 .\n",
    "\n",
    "Parameter estimates:\n",
    " rate index estimate std-err\n",
    "          1   0.1033     NaN\n",
    "          2   0.2892     NaN\n",
    "\n",
    "Scaled likelihoods at the root (type '...$lik.anc' to get them for all nodes):\n",
    "  A   B \n",
    "0.5 0.5 \n",
    "```"
   ]
  },
  {
   "cell_type": "markdown",
   "metadata": {},
   "source": [
    "# 9\n",
    "*** In addition to ER and ARD models, I wanted to simulate stochastic character map using empirical Bayes method to try another way of making phylogenetic tree of occurance of atherosclerosis. Therefore, I did stochastic charachter mapping for 100 simulations:***\n"
   ]
  },
  {
   "cell_type": "markdown",
   "metadata": {},
   "source": [
    "```\n",
    "mtrees<-make.simmap(tree = simple.tree,x,model=\"ER\",nsim=100)\n",
    "\n",
    "par(mfrow=c(10,10))\n",
    "null<-sapply(mtrees,plotSimmap,colors=cols,lwd=1,ftype=\"off\")\n",
    "pd<-summary(mtrees)\n",
    "pd\n",
    "\n",
    "```\n",
    "\n"
   ]
  },
  {
   "cell_type": "markdown",
   "metadata": {},
   "source": [
    "*** Results of 100 simulations of stochastic charachter mapping ***\n",
    "<img src=\"./outlinefigs/Rplot03.png\" width=\"800\" height=\"800\" alt=\"Alt_name\" title=\"Mytitle\" align=\"center\"/>"
   ]
  },
  {
   "cell_type": "markdown",
   "metadata": {},
   "source": [
    "*** We can find the estimates of each internal node for 100 simulations:***\n",
    "```\n",
    "dev.off()\n",
    "plot(pd,fsize=0.6,ftype=\"i\",colors=cols,ylim=c(-2,Ntip(simple.tree)))\n",
    "add.simmap.legend(colors=cols[2:1],prompt=FALSE,x=0,y=-4,vertical=FALSE)\n",
    "```"
   ]
  },
  {
   "cell_type": "markdown",
   "metadata": {},
   "source": [
    "*** Tree shows the pie chart for probability of occurance of atherosclerosis for each node for the 100 simulations***\n",
    "<img src=\"./outlinefigs/Rplot04.png\" width=\"800\" height=\"800\" alt=\"Alt_name\" title=\"Mytitle\" align=\"center\"/>"
   ]
  },
  {
   "cell_type": "markdown",
   "metadata": {},
   "source": [
    "*** I have also made a density map which shows the probabilities of occurance of athero as in a tree with density connections between different nodes. A=occurance of atherosclerosis*** \n",
    "<img src=\"./outlinefigs/Rplot05.png\" width=\"800\" height=\"800\" alt=\"Alt_name\" title=\"Mytitle\" align=\"center\"/>"
   ]
  },
  {
   "cell_type": "markdown",
   "metadata": {},
   "source": [
    "# Biological Inferences\n",
    "\n",
    "Although limitations of this study, namely the missing data that affects ancestral state reconstruction and estimates of atherosclerosis evolution should be considered when discussing the results, three different methods of ancestral reconstruction (ER, ARD and stochastic charachter mapping) demonstarte interesting results. For example, all three methods estimate multiple instances of convergent evolution in different avian orders. In addition, all three methods estimate a very low probability of occurance of spontanouse atherosclerosis in bird ancestors. This indicates that some bird lineages might have evolved succeptibility to atherosclerosis during their evolution. The reason might be that evolution of some life-history traits have increased the succeptibility of birds to atherosclerosis. Finding those life-history traits that have evolved in birds with athersclerosis can provide valuable insight into factors that increase succeptibility to atherosclerosis in humans."
   ]
  },
  {
   "cell_type": "markdown",
   "metadata": {},
   "source": [
    "# Future Studies\n",
    "Future studies should find the relationship between some of the life-history traits such as body mass, average altitude of flight, rate of metabolism, longevity and the occurance of atherosclerosis in a well- documented lineage of birds (i.e. parrots), in order to discover the factors that have shaped the evolution of atherosclerosis in birds and their connection to succeptibility factors in humans. "
   ]
  },
  {
   "cell_type": "markdown",
   "metadata": {},
   "source": [
    "# References\n",
    "\n",
    "Abegglen, L. M., Caulin, A. F., Chan, A., Lee, K., Robinson, R., Campbell, M. S., ... & Jensen, S. T. (2015). Potential mechanisms for cancer resistance in elephants and comparative cellular response to DNA damage in humans. Jama, 314(17), 1850-1860.\n",
    "<br><br>\n",
    "Blumstein, D. T., Buckner, J., Shah, S., Patel, S., Alfaro, M. E., & Natterson-Horowitz, B. (2015). The evolution of capture myopathy in hooved mammals: a model for human stress cardiomyopathy?. Evolution, medicine, and public health, 2015(1), 195-203.\n",
    "<br><br>\n",
    "Finlayson, R., Symons, C., & TW-Fiennes, R. N. (1962). Atherosclerosis: a comparative study. British medical journal, 1(5277), 501.\n",
    "\n",
    "\n",
    "\n",
    "\n"
   ]
  },
  {
   "cell_type": "code",
   "execution_count": null,
   "metadata": {
    "collapsed": true
   },
   "outputs": [],
   "source": []
  }
 ],
 "metadata": {
  "anaconda-cloud": {},
  "kernelspec": {
   "display_name": "Python [default]",
   "language": "python",
   "name": "python3"
  },
  "language_info": {
   "codemirror_mode": {
    "name": "ipython",
    "version": 3
   },
   "file_extension": ".py",
   "mimetype": "text/x-python",
   "name": "python",
   "nbconvert_exporter": "python",
   "pygments_lexer": "ipython3",
   "version": "3.5.2"
  }
 },
 "nbformat": 4,
 "nbformat_minor": 2
}
