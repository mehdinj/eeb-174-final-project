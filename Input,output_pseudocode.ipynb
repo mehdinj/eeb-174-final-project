{
 "cells": [
  {
   "cell_type": "markdown",
   "metadata": {},
   "source": [
    "## Project Avian Atherosclerosis (pseudocode)\n",
    "\n",
    "\n",
    "\n",
    "** first I have to read the avian athero data set from final project folder **\n",
    "\n",
    "Atheordataset = open and read Atherodataset.csv file from eebfinalproject folder\n",
    "\n",
    "** I have to extract the orders and captivity data of all reported articles ***\n",
    "\n",
    "my_orders = list of all uniqe orders in the data set\n",
    "\n",
    "my_captivity = list of all captive orders in the data set\n",
    "\n",
    "\n",
    "** the number of occurances for each uniqe order was calculated by loop in loop_pseudocode.ipyn**\n",
    "\n",
    "my_occurances= number of occurances of each uniqe order in Atherodataset\n",
    "\n",
    "\n",
    "** make a preliminary graph of different orders vs number of occurances (reports):**\n",
    "\n",
    "order_occurances = make a bar graph of all orders (my_orders) vs occurances of that order (my_occurances)\n",
    "\n",
    "\n",
    "** I have to install appropriate packages in R in order to graph phylogenetic tree of all orders**\n",
    "\n",
    "install \n",
    "\n",
    "** I have to make a phylogenetic tree graph of all succeptible orders to atherosclerosis **\n",
    "\n",
    "order_phylogenetic_tree = make a phylogenetic tree of my_orders\n",
    "\n",
    "\n",
    "** To write the results and findings in the report **\n",
    "\n",
    "Make a new LaTeX and markdown document and type the findings and report\n",
    "\n",
    "Make a new LaTeX and markdown document for bibliography and cite all sources in the body of text.\n",
    "\n"
   ]
  },
  {
   "cell_type": "code",
   "execution_count": null,
   "metadata": {
    "collapsed": true
   },
   "outputs": [],
   "source": []
  }
 ],
 "metadata": {
  "anaconda-cloud": {},
  "kernelspec": {
   "display_name": "Python [default]",
   "language": "python",
   "name": "python3"
  },
  "language_info": {
   "codemirror_mode": {
    "name": "ipython",
    "version": 3
   },
   "file_extension": ".py",
   "mimetype": "text/x-python",
   "name": "python",
   "nbconvert_exporter": "python",
   "pygments_lexer": "ipython3",
   "version": "3.5.2"
  }
 },
 "nbformat": 4,
 "nbformat_minor": 2
}
