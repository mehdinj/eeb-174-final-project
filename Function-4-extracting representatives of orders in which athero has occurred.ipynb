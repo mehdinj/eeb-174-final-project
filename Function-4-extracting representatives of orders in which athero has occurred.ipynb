{
 "cells": [
  {
   "cell_type": "code",
   "execution_count": 12,
   "metadata": {
    "collapsed": true
   },
   "outputs": [],
   "source": [
    "# this is the output of function 1, here defined as function_1_output for the purpose of demonstration:\n",
    "function_1_output={'ACCIPITRIFORMES': 'Hieraaetus_weiskei',\n",
    " 'ANSERIFORMES': 'Anas_eatoni',\n",
    " 'APODIFORMES': 'Xiphorhynchus_elegans',\n",
    " 'APTERYGIFORMES': 'Pyrilia_aurantiocephala',\n",
    " 'BUCEROTIFORMES': 'Penelopides_samarensis',\n",
    " 'CAPRIMULGIFORMES': 'Caprimulgus_heterurus',\n",
    " 'CARIAMIFORMES': 'Cariama_cristata',\n",
    " 'CASUARIIFORMES': 'Casuarius_unappendiculatus',\n",
    " 'CHARADRIIFORMES': 'Gygis_microrhyncha',\n",
    " 'CICONIIFORMES': 'Leptoptilos_crumeniferus',\n",
    " 'COLIIFORMES': 'Urocolius_macrourus',\n",
    " 'COLUMBIFORMES': 'Phapitreron_brunneiceps',\n",
    " 'CORACIIFORMES': 'Todiramphus_recurvirostris',\n",
    " 'CUCULIFORMES': 'Eudynamys_orientalis',\n",
    " 'EURYPYGIFORMES': 'Chunga_burmeisteri',\n",
    " 'FALCONIFORMES': 'Caracara_cheriway',\n",
    " 'GALLIFORMES': 'Dendragapus_fuliginosus',\n",
    " 'GAVIIFORMES': 'Eudyptes_moseleyi',\n",
    " 'GRUIFORMES': 'Ducula_subflavescens',\n",
    " 'MESITORNITHIFORMES': 'Mesitornis_unicolor',\n",
    " 'MUSOPHAGIFORMES': 'Crinifer_zonurus',\n",
    " 'OTIDIFORMES': 'Houbaropsis_bengalensis',\n",
    " 'PASSERIFORMES': 'Cinclodes_olrogi',\n",
    " 'PELECANIFORMES': 'Threskiornis_bernieri',\n",
    " 'PHAETHONTIFORMES': 'Phaethon_rubricauda',\n",
    " 'PHOENICOPTERIFORMES': 'Butorides_virescens',\n",
    " 'PICIFORMES': 'Ramphastos_swainsonii',\n",
    " 'PODICIPEDIFORMES': 'Aechmophorus_occidentalis',\n",
    " 'PROCELLARIIFORMES': 'Thalassarche_carteri',\n",
    " 'PSITTACIFORMES': 'Amazona_oratrix',\n",
    " 'PTEROCLIDIFORMES': 'Pterocles_lichtensteinii',\n",
    " 'RHEIFORMES': 'Rhea_americana',\n",
    " 'SPHENISCIFORMES': 'Pelecanus_thagus',\n",
    " 'STRIGIFORMES': 'Otus_siaoensis',\n",
    " 'STRUTHIONIFORMES': 'Struthio_camelus',\n",
    " 'SULIFORMES': 'Anhinga_novaehollandiae',\n",
    " 'TINAMIFORMES': 'Apteryx_mantelli',\n",
    " 'TROGONIFORMES': 'Trogon_aurantiiventris'}"
   ]
  },
  {
   "cell_type": "markdown",
   "metadata": {},
   "source": [
    "# Function 4: extracting representatives of all occurance orders\n",
    "\n",
    "***The following code has been modified to be compatible with function_1_output.***\n",
    "\n",
    "***Parts of the real code is marked as comments in the body of the code***\n"
   ]
  },
  {
   "cell_type": "code",
   "execution_count": 24,
   "metadata": {
    "collapsed": false,
    "scrolled": true
   },
   "outputs": [
    {
     "name": "stdout",
     "output_type": "stream",
     "text": [
      "Ducula_subflavescens\n",
      "Phapitreron_brunneiceps\n",
      "Threskiornis_bernieri\n",
      "Hieraaetus_weiskei\n",
      "Caracara_cheriway\n",
      "Amazona_oratrix\n",
      "Struthio_camelus\n",
      "Dendragapus_fuliginosus\n",
      "Leptoptilos_crumeniferus\n",
      "Anas_eatoni\n"
     ]
    }
   ],
   "source": [
    "\n",
    "def make_occurance(filename= \"Dataset.csv\"):\n",
    "#this function will extract all orders of occurance of athero from a csv file and outputs the representative of each order that has been chosen by function 1\n",
    "#this function is used to make a list of occurance order for later use in Rstudio\n",
    "    \n",
    "    import csv\n",
    "    import sys\n",
    "    \n",
    "    #file_object=open(filename, encoding= \"ISO-8859-15\") #openning the input file\n",
    "\n",
    "    #reader=file_object.readlines()[1:] #reads the input file\n",
    "    \n",
    " \n",
    "    \n",
    "    output=open(\"occurance_species.csv\", \"w\") #opens the output file foe later analysis in R\n",
    "    \n",
    "    #code is modified here for purpose of demonstration, reader is defined here as the input file\n",
    "    reader=[\"GRUIFORMES\",\n",
    "\"COLUMBIFORMES\",\n",
    "\"PELECANIFORMES\",\n",
    "\"ACCIPITRIFORMES\",\n",
    "\"FALCONIFORMES\",\n",
    "\"PSITTACIFORMES\",\n",
    "\"STRUTHIONIFORMES\",\n",
    "\"GALLIFORMES\",\n",
    "\"CICONIIFORMES\",\n",
    "\"ANSERIFORMES\"] \n",
    "    \n",
    "    #function_1_output=make_tip_labels() #this defines the function 1 output but it is modified here for purpose of demonstration\n",
    "    \n",
    "    for line in reader:\n",
    "        \n",
    "        #line=line.split(\",\") #every line of input file is splitted by comma\n",
    "        \n",
    "        #order= line[0] #index[0] of every line is the order \n",
    "        \n",
    "        #output.write(function_1_output[order]+\"\\r\")#output the species of each order indentified as occurance order\n",
    "        \n",
    "        \n",
    "        output.write(function_1_output[line]+\"\\r\") #populates the output file, \"\\n\" could also be used here, \"\\r\" was used here because Rstudio handles \"\\r\" better for later analysis\n",
    "        \n",
    "        \n",
    "        print(function_1_output[line]) #for the purpose of demonstration the, output is shown here as well!\n",
    "\n",
    "\n",
    "make_occurance(\"Dataset.csv\")\n",
    "    "
   ]
  },
  {
   "cell_type": "code",
   "execution_count": null,
   "metadata": {
    "collapsed": true
   },
   "outputs": [],
   "source": []
  }
 ],
 "metadata": {
  "anaconda-cloud": {},
  "kernelspec": {
   "display_name": "Python [default]",
   "language": "python",
   "name": "python3"
  },
  "language_info": {
   "codemirror_mode": {
    "name": "ipython",
    "version": 3
   },
   "file_extension": ".py",
   "mimetype": "text/x-python",
   "name": "python",
   "nbconvert_exporter": "python",
   "pygments_lexer": "ipython3",
   "version": "3.5.2"
  }
 },
 "nbformat": 4,
 "nbformat_minor": 2
}
